{
 "cells": [
  {
   "cell_type": "code",
   "execution_count": 20,
   "id": "e130b102-fd5d-4121-b1bc-5a87d0f3031c",
   "metadata": {},
   "outputs": [],
   "source": [
    "import numpy as np\n",
    "import librosa\n",
    "import IPython.display as ipd\n",
    "import matplotlib.pyplot as plt\n",
    "import os\n",
    "from sklearn.model_selection import train_test_split\n",
    "import tensorflow as tf\n",
    "from tensorflow.keras.models import Sequential\n",
    "from tensorflow.keras.layers import Dense, InputLayer"
   ]
  },
  {
   "cell_type": "code",
   "execution_count": 21,
   "id": "7ee99376-a579-4891-a163-8a911a9fafcb",
   "metadata": {},
   "outputs": [
    {
     "name": "stdout",
     "output_type": "stream",
     "text": [
      "Positive features shape: (72, 1221, 13)\n",
      "Positive labels shape: (72,)\n",
      "Negative features shape: (71, 1221, 13)\n",
      "Negative labels shape: (71,)\n"
     ]
    }
   ],
   "source": [
    "def extract_features_and_labels(directory, label):\n",
    "    files = os.listdir(directory)\n",
    "    features = []\n",
    "    labels = []\n",
    "    max_len = 0\n",
    "    for file in files:\n",
    "        audio_file = os.path.join(directory, file)\n",
    "        y, sr = librosa.load(audio_file)\n",
    "        mfccs = librosa.feature.mfcc(y=y, n_mfcc=13, sr=sr)\n",
    "        max_len = max(max_len, mfccs.shape[1])\n",
    "        features.append(mfccs.T)\n",
    "        labels.append(label)\n",
    "    return features, labels, max_len\n",
    "\n",
    "# Extract features and labels for positive samples\n",
    "positive_features, positive_labels, pos_max_len = extract_features_and_labels(positive_directory, 1)\n",
    "\n",
    "# Extract features and labels for negative samples\n",
    "negative_features, negative_labels, neg_max_len = extract_features_and_labels(negative_directory, 0)\n",
    "\n",
    "# Determine the maximum length for padding\n",
    "max_len = max(pos_max_len, neg_max_len)\n",
    "\n",
    "def pad_features(features, max_len):\n",
    "    padded_features = []\n",
    "    for feature in features:\n",
    "        if feature.shape[0] < max_len:\n",
    "            pad_width = max_len - feature.shape[0]\n",
    "            padded_feature = np.pad(feature, ((0, pad_width), (0, 0)), mode='constant')\n",
    "        else:\n",
    "            padded_feature = feature[:max_len, :]\n",
    "        padded_features.append(padded_feature)\n",
    "    return np.array(padded_features)\n",
    "\n",
    "# Pad the features\n",
    "positive_features = pad_features(positive_features, max_len)\n",
    "negative_features = pad_features(negative_features, max_len)\n",
    "\n",
    "# Convert labels to numpy arrays\n",
    "positive_labels = np.array(positive_labels)\n",
    "negative_labels = np.array(negative_labels)\n",
    "\n",
    "# Print the shapes\n",
    "print(f\"Positive features shape: {positive_features.shape}\")\n",
    "print(f\"Positive labels shape: {positive_labels.shape}\")\n",
    "print(f\"Negative features shape: {negative_features.shape}\")\n",
    "print(f\"Negative labels shape: {negative_labels.shape}\")"
   ]
  },
  {
   "cell_type": "code",
   "execution_count": 36,
   "id": "71523e8b-351a-4d67-a516-162ecdaf5165",
   "metadata": {},
   "outputs": [
    {
     "name": "stdout",
     "output_type": "stream",
     "text": [
      "Features shape: (143, 1221, 13)\n",
      "Labels shape: (143,)\n"
     ]
    }
   ],
   "source": [
    "features = np.concatenate((positive_features, negative_features), axis=0)\n",
    "labels = np.concatenate((positive_labels, negative_labels), axis=0)\n",
    "\n",
    "# Print the shapes to verify\n",
    "print(f\"Features shape: {features.shape}\")\n",
    "print(f\"Labels shape: {labels.shape}\")\n"
   ]
  },
  {
   "cell_type": "code",
   "execution_count": 37,
   "id": "f4c46f26-0eba-4f80-8c38-cea7e3991aea",
   "metadata": {},
   "outputs": [
    {
     "name": "stdout",
     "output_type": "stream",
     "text": [
      "Features shape after flattening: (143, 15873)\n"
     ]
    }
   ],
   "source": [
    "num_samples = features.shape[0]\n",
    "num_rows = features.shape[1]\n",
    "num_cols = features.shape[2]\n",
    "# Flatten each matrix into a vector\n",
    "features = features.reshape(num_samples, num_rows * num_cols)\n",
    "\n",
    "# Now features shape will be (num_samples, num_rows * num_cols)\n",
    "print(\"Features shape after flattening:\", features.shape)"
   ]
  },
  {
   "cell_type": "code",
   "execution_count": 41,
   "id": "289540b3-fa70-4bdd-a052-5b6d39fda3c8",
   "metadata": {},
   "outputs": [],
   "source": [
    "X_train, X_test, y_train, y_test = train_test_split(features, labels, test_size=0.2, random_state=42)"
   ]
  },
  {
   "cell_type": "code",
   "execution_count": 59,
   "id": "691040ec-7902-4741-a989-8490752eb759",
   "metadata": {},
   "outputs": [
    {
     "data": {
      "text/html": [
       "<pre style=\"white-space:pre;overflow-x:auto;line-height:normal;font-family:Menlo,'DejaVu Sans Mono',consolas,'Courier New',monospace\"><span style=\"font-weight: bold\">Model: \"my_model\"</span>\n",
       "</pre>\n"
      ],
      "text/plain": [
       "\u001b[1mModel: \"my_model\"\u001b[0m\n"
      ]
     },
     "metadata": {},
     "output_type": "display_data"
    },
    {
     "data": {
      "text/html": [
       "<pre style=\"white-space:pre;overflow-x:auto;line-height:normal;font-family:Menlo,'DejaVu Sans Mono',consolas,'Courier New',monospace\">┏━━━━━━━━━━━━━━━━━━━━━━━━━━━━━━━━━━━━━━┳━━━━━━━━━━━━━━━━━━━━━━━━━━━━━┳━━━━━━━━━━━━━━━━━┓\n",
       "┃<span style=\"font-weight: bold\"> Layer (type)                         </span>┃<span style=\"font-weight: bold\"> Output Shape                </span>┃<span style=\"font-weight: bold\">         Param # </span>┃\n",
       "┡━━━━━━━━━━━━━━━━━━━━━━━━━━━━━━━━━━━━━━╇━━━━━━━━━━━━━━━━━━━━━━━━━━━━━╇━━━━━━━━━━━━━━━━━┩\n",
       "│ L1 (<span style=\"color: #0087ff; text-decoration-color: #0087ff\">Dense</span>)                           │ (<span style=\"color: #00d7ff; text-decoration-color: #00d7ff\">None</span>, <span style=\"color: #00af00; text-decoration-color: #00af00\">30</span>)                  │         <span style=\"color: #00af00; text-decoration-color: #00af00\">476,220</span> │\n",
       "├──────────────────────────────────────┼─────────────────────────────┼─────────────────┤\n",
       "│ L2 (<span style=\"color: #0087ff; text-decoration-color: #0087ff\">Dense</span>)                           │ (<span style=\"color: #00d7ff; text-decoration-color: #00d7ff\">None</span>, <span style=\"color: #00af00; text-decoration-color: #00af00\">10</span>)                  │             <span style=\"color: #00af00; text-decoration-color: #00af00\">310</span> │\n",
       "└──────────────────────────────────────┴─────────────────────────────┴─────────────────┘\n",
       "</pre>\n"
      ],
      "text/plain": [
       "┏━━━━━━━━━━━━━━━━━━━━━━━━━━━━━━━━━━━━━━┳━━━━━━━━━━━━━━━━━━━━━━━━━━━━━┳━━━━━━━━━━━━━━━━━┓\n",
       "┃\u001b[1m \u001b[0m\u001b[1mLayer (type)                        \u001b[0m\u001b[1m \u001b[0m┃\u001b[1m \u001b[0m\u001b[1mOutput Shape               \u001b[0m\u001b[1m \u001b[0m┃\u001b[1m \u001b[0m\u001b[1m        Param #\u001b[0m\u001b[1m \u001b[0m┃\n",
       "┡━━━━━━━━━━━━━━━━━━━━━━━━━━━━━━━━━━━━━━╇━━━━━━━━━━━━━━━━━━━━━━━━━━━━━╇━━━━━━━━━━━━━━━━━┩\n",
       "│ L1 (\u001b[38;5;33mDense\u001b[0m)                           │ (\u001b[38;5;45mNone\u001b[0m, \u001b[38;5;34m30\u001b[0m)                  │         \u001b[38;5;34m476,220\u001b[0m │\n",
       "├──────────────────────────────────────┼─────────────────────────────┼─────────────────┤\n",
       "│ L2 (\u001b[38;5;33mDense\u001b[0m)                           │ (\u001b[38;5;45mNone\u001b[0m, \u001b[38;5;34m10\u001b[0m)                  │             \u001b[38;5;34m310\u001b[0m │\n",
       "└──────────────────────────────────────┴─────────────────────────────┴─────────────────┘\n"
      ]
     },
     "metadata": {},
     "output_type": "display_data"
    },
    {
     "data": {
      "text/html": [
       "<pre style=\"white-space:pre;overflow-x:auto;line-height:normal;font-family:Menlo,'DejaVu Sans Mono',consolas,'Courier New',monospace\"><span style=\"font-weight: bold\"> Total params: </span><span style=\"color: #00af00; text-decoration-color: #00af00\">476,530</span> (1.82 MB)\n",
       "</pre>\n"
      ],
      "text/plain": [
       "\u001b[1m Total params: \u001b[0m\u001b[38;5;34m476,530\u001b[0m (1.82 MB)\n"
      ]
     },
     "metadata": {},
     "output_type": "display_data"
    },
    {
     "data": {
      "text/html": [
       "<pre style=\"white-space:pre;overflow-x:auto;line-height:normal;font-family:Menlo,'DejaVu Sans Mono',consolas,'Courier New',monospace\"><span style=\"font-weight: bold\"> Trainable params: </span><span style=\"color: #00af00; text-decoration-color: #00af00\">476,530</span> (1.82 MB)\n",
       "</pre>\n"
      ],
      "text/plain": [
       "\u001b[1m Trainable params: \u001b[0m\u001b[38;5;34m476,530\u001b[0m (1.82 MB)\n"
      ]
     },
     "metadata": {},
     "output_type": "display_data"
    },
    {
     "data": {
      "text/html": [
       "<pre style=\"white-space:pre;overflow-x:auto;line-height:normal;font-family:Menlo,'DejaVu Sans Mono',consolas,'Courier New',monospace\"><span style=\"font-weight: bold\"> Non-trainable params: </span><span style=\"color: #00af00; text-decoration-color: #00af00\">0</span> (0.00 B)\n",
       "</pre>\n"
      ],
      "text/plain": [
       "\u001b[1m Non-trainable params: \u001b[0m\u001b[38;5;34m0\u001b[0m (0.00 B)\n"
      ]
     },
     "metadata": {},
     "output_type": "display_data"
    }
   ],
   "source": [
    "tf.random.set_seed(1234)\n",
    "\n",
    "# Define input layer separately\n",
    "\n",
    "model = Sequential([\n",
    "    tf.keras.layers.InputLayer((15873,)),\n",
    "    Dense(30, activation=\"sigmoid\", name=\"L1\"),\n",
    "    Dense(10, activation=\"sigmoid\", name=\"L2\"),\n",
    "], name=\"my_model\")\n",
    "\n",
    "# Print model summary\n",
    "model.summary()"
   ]
  },
  {
   "cell_type": "code",
   "execution_count": 60,
   "id": "5a1fef6b-53bb-4a2b-8e54-813f7917e442",
   "metadata": {},
   "outputs": [
    {
     "name": "stdout",
     "output_type": "stream",
     "text": [
      "Epoch 1/10\n",
      "\u001b[1m4/4\u001b[0m \u001b[32m━━━━━━━━━━━━━━━━━━━━\u001b[0m\u001b[37m\u001b[0m \u001b[1m1s\u001b[0m 51ms/step - accuracy: 0.3110 - loss: 1.3156 - val_accuracy: 0.9310 - val_loss: 0.6680\n",
      "Epoch 2/10\n",
      "\u001b[1m4/4\u001b[0m \u001b[32m━━━━━━━━━━━━━━━━━━━━\u001b[0m\u001b[37m\u001b[0m \u001b[1m0s\u001b[0m 13ms/step - accuracy: 0.9558 - loss: 0.6528 - val_accuracy: 0.9310 - val_loss: 0.6756\n",
      "Epoch 3/10\n",
      "\u001b[1m4/4\u001b[0m \u001b[32m━━━━━━━━━━━━━━━━━━━━\u001b[0m\u001b[37m\u001b[0m \u001b[1m0s\u001b[0m 14ms/step - accuracy: 0.9801 - loss: 0.6532 - val_accuracy: 0.8966 - val_loss: 0.6608\n",
      "Epoch 4/10\n",
      "\u001b[1m4/4\u001b[0m \u001b[32m━━━━━━━━━━━━━━━━━━━━\u001b[0m\u001b[37m\u001b[0m \u001b[1m0s\u001b[0m 14ms/step - accuracy: 0.9857 - loss: 0.6188 - val_accuracy: 0.8966 - val_loss: 0.6212\n",
      "Epoch 5/10\n",
      "\u001b[1m4/4\u001b[0m \u001b[32m━━━━━━━━━━━━━━━━━━━━\u001b[0m\u001b[37m\u001b[0m \u001b[1m0s\u001b[0m 14ms/step - accuracy: 0.9857 - loss: 0.5901 - val_accuracy: 0.9310 - val_loss: 0.5936\n",
      "Epoch 6/10\n",
      "\u001b[1m4/4\u001b[0m \u001b[32m━━━━━━━━━━━━━━━━━━━━\u001b[0m\u001b[37m\u001b[0m \u001b[1m0s\u001b[0m 12ms/step - accuracy: 0.9857 - loss: 0.5641 - val_accuracy: 0.9310 - val_loss: 0.5826\n",
      "Epoch 7/10\n",
      "\u001b[1m4/4\u001b[0m \u001b[32m━━━━━━━━━━━━━━━━━━━━\u001b[0m\u001b[37m\u001b[0m \u001b[1m0s\u001b[0m 13ms/step - accuracy: 0.9857 - loss: 0.5443 - val_accuracy: 0.9310 - val_loss: 0.5735\n",
      "Epoch 8/10\n",
      "\u001b[1m4/4\u001b[0m \u001b[32m━━━━━━━━━━━━━━━━━━━━\u001b[0m\u001b[37m\u001b[0m \u001b[1m0s\u001b[0m 13ms/step - accuracy: 0.9770 - loss: 0.5263 - val_accuracy: 0.9310 - val_loss: 0.5585\n",
      "Epoch 9/10\n",
      "\u001b[1m4/4\u001b[0m \u001b[32m━━━━━━━━━━━━━━━━━━━━\u001b[0m\u001b[37m\u001b[0m \u001b[1m0s\u001b[0m 13ms/step - accuracy: 0.9770 - loss: 0.5132 - val_accuracy: 0.9310 - val_loss: 0.5466\n",
      "Epoch 10/10\n",
      "\u001b[1m4/4\u001b[0m \u001b[32m━━━━━━━━━━━━━━━━━━━━\u001b[0m\u001b[37m\u001b[0m \u001b[1m0s\u001b[0m 15ms/step - accuracy: 0.9770 - loss: 0.5021 - val_accuracy: 0.9310 - val_loss: 0.5389\n",
      "\u001b[1m1/1\u001b[0m \u001b[32m━━━━━━━━━━━━━━━━━━━━\u001b[0m\u001b[37m\u001b[0m \u001b[1m0s\u001b[0m 26ms/step - accuracy: 0.9310 - loss: 0.5389\n",
      "Test Loss: 0.5389314293861389\n",
      "Test Accuracy: 0.931034505367279\n"
     ]
    }
   ],
   "source": [
    "model.compile(optimizer='adam',\n",
    "              loss=tf.keras.losses.SparseCategoricalCrossentropy(from_logits=True),\n",
    "              metrics=['accuracy'])\n",
    "\n",
    "\n",
    "history = model.fit(x=X_train, \n",
    "                    y=y_train, \n",
    "                    epochs=10,\n",
    "                    validation_data=(X_test, y_test))\n",
    "\n",
    "test_loss, test_accuracy = model.evaluate(X_test, y_test)\n",
    "print(f'Test Loss: {test_loss}')\n",
    "print(f'Test Accuracy: {test_accuracy}')"
   ]
  },
  {
   "cell_type": "code",
   "execution_count": null,
   "id": "e4b5b821-93d5-4fa3-b6fb-574b7fbafa56",
   "metadata": {},
   "outputs": [],
   "source": []
  },
  {
   "cell_type": "code",
   "execution_count": null,
   "id": "42ee9528-5b4b-4d73-849e-666bb988556f",
   "metadata": {},
   "outputs": [],
   "source": []
  }
 ],
 "metadata": {
  "kernelspec": {
   "display_name": "Python 3 (ipykernel)",
   "language": "python",
   "name": "python3"
  },
  "language_info": {
   "codemirror_mode": {
    "name": "ipython",
    "version": 3
   },
   "file_extension": ".py",
   "mimetype": "text/x-python",
   "name": "python",
   "nbconvert_exporter": "python",
   "pygments_lexer": "ipython3",
   "version": "3.12.2"
  }
 },
 "nbformat": 4,
 "nbformat_minor": 5
}
